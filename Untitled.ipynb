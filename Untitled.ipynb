{
 "cells": [
  {
   "cell_type": "markdown",
   "id": "e083eef5-4668-4016-bab1-1f7cfa874e7f",
   "metadata": {},
   "source": [
    "# My Jupyter Notebook on IBM Watson Studio"
   ]
  },
  {
   "cell_type": "markdown",
   "id": "375c6549-d5cc-4af3-b192-0e8915e97246",
   "metadata": {},
   "source": [
    "**Kieran Chian**\n",
    "Data analyst"
   ]
  },
  {
   "cell_type": "markdown",
   "id": "9fd46c6c-6ed9-470a-9f06-60d6b9630827",
   "metadata": {},
   "source": [
    "*I am interested in data science because I like to explore the secrets behind the nature of data*"
   ]
  },
  {
   "cell_type": "code",
   "execution_count": 1,
   "id": "b7322efb-d0a3-4974-8e58-ebfc44d99a4d",
   "metadata": {
    "tags": []
   },
   "outputs": [
    {
     "data": {
      "text/plain": [
       "True"
      ]
     },
     "execution_count": 1,
     "metadata": {},
     "output_type": "execute_result"
    }
   ],
   "source": [
    "def gauss(n):\n",
    "    return (n*(n+1)/2)\n",
    "\n",
    "gauss(100)==sum(range(101))"
   ]
  },
  {
   "cell_type": "markdown",
   "id": "4195eb2f-bf4b-45f4-ba76-612fc0b43751",
   "metadata": {},
   "source": [
    "bulleted list\n",
    "- line 1\n",
    "+ line 2\n",
    "* line 3\n",
    "\n",
    "numbered list\n",
    "1. line 1\n",
    "2. line 2\n",
    "3. line 3\n",
    "\n"
   ]
  },
  {
   "cell_type": "code",
   "execution_count": null,
   "id": "8475c0e9-7ac4-4f8d-bc2b-36d0244f4802",
   "metadata": {},
   "outputs": [],
   "source": []
  }
 ],
 "metadata": {
  "kernelspec": {
   "display_name": "Python 3 (ipykernel)",
   "language": "python",
   "name": "python3"
  },
  "language_info": {
   "codemirror_mode": {
    "name": "ipython",
    "version": 3
   },
   "file_extension": ".py",
   "mimetype": "text/x-python",
   "name": "python",
   "nbconvert_exporter": "python",
   "pygments_lexer": "ipython3",
   "version": "3.11.1"
  }
 },
 "nbformat": 4,
 "nbformat_minor": 5
}
